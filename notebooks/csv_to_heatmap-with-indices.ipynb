{
 "cells": [
  {
   "cell_type": "markdown",
   "metadata": {},
   "source": [
    "# Parse the data with the index information"
   ]
  },
  {
   "cell_type": "code",
   "execution_count": 1,
   "metadata": {
    "collapsed": true
   },
   "outputs": [],
   "source": [
    "from xrdtools import parse_data, heatmap"
   ]
  },
  {
   "cell_type": "code",
   "execution_count": 2,
   "metadata": {
    "collapsed": true
   },
   "outputs": [],
   "source": [
    "%matplotlib inline"
   ]
  },
  {
   "cell_type": "markdown",
   "metadata": {},
   "source": [
    "# parse the data "
   ]
  },
  {
   "cell_type": "code",
   "execution_count": 3,
   "metadata": {},
   "outputs": [],
   "source": [
    "m = parse_data('../data/result_slice01.txt', colnum=1)"
   ]
  },
  {
   "cell_type": "markdown",
   "metadata": {},
   "source": [
    "## show the data"
   ]
  },
  {
   "cell_type": "code",
   "execution_count": 4,
   "metadata": {},
   "outputs": [
    {
     "data": {
      "text/html": [
       "<div>\n",
       "<style>\n",
       "    .dataframe thead tr:only-child th {\n",
       "        text-align: right;\n",
       "    }\n",
       "\n",
       "    .dataframe thead th {\n",
       "        text-align: left;\n",
       "    }\n",
       "\n",
       "    .dataframe tbody tr th {\n",
       "        vertical-align: top;\n",
       "    }\n",
       "</style>\n",
       "<table border=\"1\" class=\"dataframe\">\n",
       "  <thead>\n",
       "    <tr style=\"text-align: right;\">\n",
       "      <th>ind_y</th>\n",
       "      <th>3</th>\n",
       "      <th>4</th>\n",
       "      <th>5</th>\n",
       "      <th>6</th>\n",
       "      <th>7</th>\n",
       "      <th>8</th>\n",
       "      <th>9</th>\n",
       "      <th>10</th>\n",
       "      <th>11</th>\n",
       "      <th>12</th>\n",
       "      <th>...</th>\n",
       "      <th>51</th>\n",
       "      <th>52</th>\n",
       "      <th>53</th>\n",
       "      <th>54</th>\n",
       "      <th>55</th>\n",
       "      <th>56</th>\n",
       "      <th>57</th>\n",
       "      <th>58</th>\n",
       "      <th>59</th>\n",
       "      <th>60</th>\n",
       "    </tr>\n",
       "    <tr>\n",
       "      <th>ind_x</th>\n",
       "      <th></th>\n",
       "      <th></th>\n",
       "      <th></th>\n",
       "      <th></th>\n",
       "      <th></th>\n",
       "      <th></th>\n",
       "      <th></th>\n",
       "      <th></th>\n",
       "      <th></th>\n",
       "      <th></th>\n",
       "      <th></th>\n",
       "      <th></th>\n",
       "      <th></th>\n",
       "      <th></th>\n",
       "      <th></th>\n",
       "      <th></th>\n",
       "      <th></th>\n",
       "      <th></th>\n",
       "      <th></th>\n",
       "      <th></th>\n",
       "      <th></th>\n",
       "    </tr>\n",
       "  </thead>\n",
       "  <tbody>\n",
       "    <tr>\n",
       "      <th>3</th>\n",
       "      <td>65.14323</td>\n",
       "      <td>49.69298</td>\n",
       "      <td>48.79670</td>\n",
       "      <td>56.63807</td>\n",
       "      <td>47.02948</td>\n",
       "      <td>50.46613</td>\n",
       "      <td>78.54695</td>\n",
       "      <td>48.17240</td>\n",
       "      <td>43.33721</td>\n",
       "      <td>69.29522</td>\n",
       "      <td>...</td>\n",
       "      <td>339.49859</td>\n",
       "      <td>236.19234</td>\n",
       "      <td>87.30356</td>\n",
       "      <td>59.35334</td>\n",
       "      <td>74.26702</td>\n",
       "      <td>85.25973</td>\n",
       "      <td>78.98063</td>\n",
       "      <td>74.70566</td>\n",
       "      <td>51.93228</td>\n",
       "      <td>54.88132</td>\n",
       "    </tr>\n",
       "    <tr>\n",
       "      <th>4</th>\n",
       "      <td>69.85600</td>\n",
       "      <td>48.23067</td>\n",
       "      <td>49.13857</td>\n",
       "      <td>46.81142</td>\n",
       "      <td>50.08756</td>\n",
       "      <td>42.50936</td>\n",
       "      <td>83.23597</td>\n",
       "      <td>73.79040</td>\n",
       "      <td>44.87992</td>\n",
       "      <td>51.33915</td>\n",
       "      <td>...</td>\n",
       "      <td>356.65583</td>\n",
       "      <td>200.61550</td>\n",
       "      <td>128.84925</td>\n",
       "      <td>116.39241</td>\n",
       "      <td>89.90483</td>\n",
       "      <td>80.54440</td>\n",
       "      <td>52.29518</td>\n",
       "      <td>65.01838</td>\n",
       "      <td>62.95591</td>\n",
       "      <td>61.35586</td>\n",
       "    </tr>\n",
       "    <tr>\n",
       "      <th>5</th>\n",
       "      <td>76.40160</td>\n",
       "      <td>42.57160</td>\n",
       "      <td>50.38175</td>\n",
       "      <td>51.80404</td>\n",
       "      <td>47.59427</td>\n",
       "      <td>41.18479</td>\n",
       "      <td>50.88559</td>\n",
       "      <td>55.47304</td>\n",
       "      <td>50.64592</td>\n",
       "      <td>50.03333</td>\n",
       "      <td>...</td>\n",
       "      <td>515.90239</td>\n",
       "      <td>228.68634</td>\n",
       "      <td>550.69584</td>\n",
       "      <td>372.03552</td>\n",
       "      <td>121.54316</td>\n",
       "      <td>90.09829</td>\n",
       "      <td>69.64879</td>\n",
       "      <td>96.32019</td>\n",
       "      <td>63.56461</td>\n",
       "      <td>56.37973</td>\n",
       "    </tr>\n",
       "    <tr>\n",
       "      <th>6</th>\n",
       "      <td>58.80151</td>\n",
       "      <td>50.78167</td>\n",
       "      <td>54.44780</td>\n",
       "      <td>63.54956</td>\n",
       "      <td>56.18738</td>\n",
       "      <td>46.49468</td>\n",
       "      <td>49.04318</td>\n",
       "      <td>51.76220</td>\n",
       "      <td>63.22538</td>\n",
       "      <td>85.78638</td>\n",
       "      <td>...</td>\n",
       "      <td>697.16494</td>\n",
       "      <td>655.78041</td>\n",
       "      <td>484.59225</td>\n",
       "      <td>539.28921</td>\n",
       "      <td>443.63649</td>\n",
       "      <td>252.27457</td>\n",
       "      <td>129.93238</td>\n",
       "      <td>95.94847</td>\n",
       "      <td>55.74373</td>\n",
       "      <td>59.90149</td>\n",
       "    </tr>\n",
       "    <tr>\n",
       "      <th>7</th>\n",
       "      <td>61.91512</td>\n",
       "      <td>37.68067</td>\n",
       "      <td>35.86701</td>\n",
       "      <td>50.08186</td>\n",
       "      <td>84.66419</td>\n",
       "      <td>82.76149</td>\n",
       "      <td>71.15154</td>\n",
       "      <td>65.06230</td>\n",
       "      <td>56.12031</td>\n",
       "      <td>90.97828</td>\n",
       "      <td>...</td>\n",
       "      <td>614.41857</td>\n",
       "      <td>641.84395</td>\n",
       "      <td>646.67456</td>\n",
       "      <td>446.08255</td>\n",
       "      <td>588.31174</td>\n",
       "      <td>669.10054</td>\n",
       "      <td>180.65144</td>\n",
       "      <td>106.53503</td>\n",
       "      <td>69.29114</td>\n",
       "      <td>79.08854</td>\n",
       "    </tr>\n",
       "  </tbody>\n",
       "</table>\n",
       "<p>5 rows × 58 columns</p>\n",
       "</div>"
      ],
      "text/plain": [
       "ind_y        3         4         5         6         7         8         9   \\\n",
       "ind_x                                                                         \n",
       "3      65.14323  49.69298  48.79670  56.63807  47.02948  50.46613  78.54695   \n",
       "4      69.85600  48.23067  49.13857  46.81142  50.08756  42.50936  83.23597   \n",
       "5      76.40160  42.57160  50.38175  51.80404  47.59427  41.18479  50.88559   \n",
       "6      58.80151  50.78167  54.44780  63.54956  56.18738  46.49468  49.04318   \n",
       "7      61.91512  37.68067  35.86701  50.08186  84.66419  82.76149  71.15154   \n",
       "\n",
       "ind_y        10        11        12    ...            51         52  \\\n",
       "ind_x                                  ...                            \n",
       "3      48.17240  43.33721  69.29522    ...     339.49859  236.19234   \n",
       "4      73.79040  44.87992  51.33915    ...     356.65583  200.61550   \n",
       "5      55.47304  50.64592  50.03333    ...     515.90239  228.68634   \n",
       "6      51.76220  63.22538  85.78638    ...     697.16494  655.78041   \n",
       "7      65.06230  56.12031  90.97828    ...     614.41857  641.84395   \n",
       "\n",
       "ind_y         53         54         55         56         57         58  \\\n",
       "ind_x                                                                     \n",
       "3       87.30356   59.35334   74.26702   85.25973   78.98063   74.70566   \n",
       "4      128.84925  116.39241   89.90483   80.54440   52.29518   65.01838   \n",
       "5      550.69584  372.03552  121.54316   90.09829   69.64879   96.32019   \n",
       "6      484.59225  539.28921  443.63649  252.27457  129.93238   95.94847   \n",
       "7      646.67456  446.08255  588.31174  669.10054  180.65144  106.53503   \n",
       "\n",
       "ind_y        59        60  \n",
       "ind_x                      \n",
       "3      51.93228  54.88132  \n",
       "4      62.95591  61.35586  \n",
       "5      63.56461  56.37973  \n",
       "6      55.74373  59.90149  \n",
       "7      69.29114  79.08854  \n",
       "\n",
       "[5 rows x 58 columns]"
      ]
     },
     "execution_count": 4,
     "metadata": {},
     "output_type": "execute_result"
    }
   ],
   "source": [
    "m.head()"
   ]
  },
  {
   "cell_type": "code",
   "execution_count": 5,
   "metadata": {},
   "outputs": [
    {
     "data": {
      "image/png": "[encoded data removed]",
      "text/plain": [
       "<matplotlib.figure.Figure at 0x7f6ec0549048>"
      ]
     },
     "metadata": {},
     "output_type": "display_data"
    }
   ],
   "source": [
    "heatmap(m)"
   ]
  },
  {
   "cell_type": "markdown",
   "metadata": {},
   "source": [
    "## different colum and colormap"
   ]
  },
  {
   "cell_type": "code",
   "execution_count": 7,
   "metadata": {},
   "outputs": [
    {
     "data": {
      "image/png": "[encoded data removed]",
      "text/plain": [
       "<matplotlib.figure.Figure at 0x7f6e95111f28>"
      ]
     },
     "metadata": {},
     "output_type": "display_data"
    }
   ],
   "source": [
    "m = parse_data('../data/result_slice01.txt', colnum=6)\n",
    "heatmap(m, 10, cmap='Greens_r')"
   ]
  },
  {
   "cell_type": "markdown",
   "metadata": {},
   "source": [
    "# same thing but using the heatmap method from seaborn"
   ]
  },
  {
   "cell_type": "code",
   "execution_count": 10,
   "metadata": {
    "collapsed": true
   },
   "outputs": [],
   "source": [
    "import matplotlib.pyplot as plt\n",
    "import seaborn as sns"
   ]
  },
  {
   "cell_type": "code",
   "execution_count": 11,
   "metadata": {},
   "outputs": [
    {
     "data": {
      "text/plain": [
       "<matplotlib.axes._subplots.AxesSubplot at 0x7f6e8c31f358>"
      ]
     },
     "execution_count": 11,
     "metadata": {},
     "output_type": "execute_result"
    },
    {
     "data": {
      "image/png": "[encoded data removed]",
      "text/plain": [
       "<matplotlib.figure.Figure at 0x7f6e8bdad0f0>"
      ]
     },
     "metadata": {},
     "output_type": "display_data"
    }
   ],
   "source": [
    "plt.figure(figsize=(14, 10))\n",
    "sns.heatmap(m, cmap='viridis', xticklabels=False, yticklabels=False)"
   ]
  },
  {
   "cell_type": "code",
   "execution_count": 12,
   "metadata": {},
   "outputs": [
    {
     "data": {
      "application/json": {
       "Software versions": [
        {
         "module": "Python",
         "version": "3.6.3 64bit [GCC 7.2.0]"
        },
        {
         "module": "IPython",
         "version": "6.1.0"
        },
        {
         "module": "OS",
         "version": "Linux 4.9.0 4 amd64 x86_64 with debian 9.1"
        }
       ]
      },
      "text/html": [
       "<table><tr><th>Software</th><th>Version</th></tr><tr><td>Python</td><td>3.6.3 64bit [GCC 7.2.0]</td></tr><tr><td>IPython</td><td>6.1.0</td></tr><tr><td>OS</td><td>Linux 4.9.0 4 amd64 x86_64 with debian 9.1</td></tr><tr><td colspan='2'>Tue Oct 17 18:59:09 2017 CEST</td></tr></table>"
      ],
      "text/latex": [
       "\\begin{tabular}{|l|l|}\\hline\n",
       "{\\bf Software} & {\\bf Version} \\\\ \\hline\\hline\n",
       "Python & 3.6.3 64bit [GCC 7.2.0] \\\\ \\hline\n",
       "IPython & 6.1.0 \\\\ \\hline\n",
       "OS & Linux 4.9.0 4 amd64 x86\\_64 with debian 9.1 \\\\ \\hline\n",
       "\\hline \\multicolumn{2}{|l|}{Tue Oct 17 18:59:09 2017 CEST} \\\\ \\hline\n",
       "\\end{tabular}\n"
      ],
      "text/plain": [
       "Software versions\n",
       "Python 3.6.3 64bit [GCC 7.2.0]\n",
       "IPython 6.1.0\n",
       "OS Linux 4.9.0 4 amd64 x86_64 with debian 9.1\n",
       "Tue Oct 17 18:59:09 2017 CEST"
      ]
     },
     "execution_count": 12,
     "metadata": {},
     "output_type": "execute_result"
    }
   ],
   "source": [
    "%version_information"
   ]
  }
 ],
 "metadata": {
  "kernelspec": {
   "display_name": "Python 3",
   "language": "python",
   "name": "python3"
  },
  "language_info": {
   "codemirror_mode": {
    "name": "ipython",
    "version": 3
   },
   "file_extension": ".py",
   "mimetype": "text/x-python",
   "name": "python",
   "nbconvert_exporter": "python",
   "pygments_lexer": "ipython3",
   "version": "3.6.3"
  }
 },
 "nbformat": 4,
 "nbformat_minor": 2
}
